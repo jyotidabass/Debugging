{
  "nbformat": 4,
  "nbformat_minor": 0,
  "metadata": {
    "colab": {
      "provenance": [],
      "authorship_tag": "ABX9TyOVPQmF6zBPGSCMA6kmijOr",
      "include_colab_link": true
    },
    "kernelspec": {
      "name": "python3",
      "display_name": "Python 3"
    },
    "language_info": {
      "name": "python"
    }
  },
  "cells": [
    {
      "cell_type": "markdown",
      "metadata": {
        "id": "view-in-github",
        "colab_type": "text"
      },
      "source": [
        "<a href=\"https://colab.research.google.com/github/jyotidabass/Debugging/blob/main/Debugging.ipynb\" target=\"_parent\"><img src=\"https://colab.research.google.com/assets/colab-badge.svg\" alt=\"Open In Colab\"/></a>"
      ]
    },
    {
      "cell_type": "markdown",
      "source": [
        "Google Colab provides several built-in tools for debugging Python code, such as print() statements, the pdb (Python Debugger) library, and the interactive ipdb (Interactive Python Debugger) library.\n",
        "\n",
        "**Let's start with the simplest debugging tool - print() statements.**\n",
        "\n",
        "Here's an example of using print() statements for debugging in Google Colab:\n",
        "\n",
        "First, create a simple function my_function() that may have some errors:"
      ],
      "metadata": {
        "id": "s6ZEd4rE9AjC"
      }
    },
    {
      "cell_type": "code",
      "execution_count": 9,
      "metadata": {
        "id": "L_1WnhNA8JwC"
      },
      "outputs": [],
      "source": [
        "def my_function(x, y):\n",
        "    result = x + y\n",
        "    return result / 2"
      ]
    },
    {
      "cell_type": "markdown",
      "source": [
        "**Now, let's add print() statements to debug the function:**"
      ],
      "metadata": {
        "id": "Wc3L_Sa-9Gcw"
      }
    },
    {
      "cell_type": "code",
      "source": [
        "def my_function(x, y):\n",
        "    print(\"x =\", x)\n",
        "    print(\"y =\", y)\n",
        "    result = x + y\n",
        "    print(\"result =\", result)\n",
        "    return result / 2"
      ],
      "metadata": {
        "id": "ChGDoMqU8PKB"
      },
      "execution_count": 10,
      "outputs": []
    },
    {
      "cell_type": "markdown",
      "source": [
        "**Run the function with some input:**\n",
        "\n",
        "The output will show the execution flow, highlighting any potential errors, and help you understand the input and output values:"
      ],
      "metadata": {
        "id": "mlsl9smL9MSn"
      }
    },
    {
      "cell_type": "code",
      "source": [
        "print(my_function(3, 5))"
      ],
      "metadata": {
        "colab": {
          "base_uri": "https://localhost:8080/"
        },
        "id": "nHo_2C0x8QSB",
        "outputId": "2c593d0d-29ed-4251-d80b-cf47c8ce7aae"
      },
      "execution_count": 11,
      "outputs": [
        {
          "output_type": "stream",
          "name": "stdout",
          "text": [
            "x = 3\n",
            "y = 5\n",
            "result = 8\n",
            "4.0\n"
          ]
        }
      ]
    },
    {
      "cell_type": "markdown",
      "source": [
        "While print() statements are a simple and effective debugging tool, they can sometimes clutter your code. For a more powerful and interactive debugging experience, you can use the pdb or ipdb libraries.\n",
        "\n",
        "To install ipdb in Google Colab, run the following command:"
      ],
      "metadata": {
        "id": "CBtlNVTs9Vud"
      }
    },
    {
      "cell_type": "code",
      "source": [
        "!pip install ipdb"
      ],
      "metadata": {
        "colab": {
          "base_uri": "https://localhost:8080/"
        },
        "id": "1gAzur7O8WFA",
        "outputId": "ea0e7054-cf75-4779-8f6b-50bc199c148d"
      },
      "execution_count": 12,
      "outputs": [
        {
          "output_type": "stream",
          "name": "stdout",
          "text": [
            "Requirement already satisfied: ipdb in /usr/local/lib/python3.10/dist-packages (0.13.13)\n",
            "Requirement already satisfied: ipython>=7.31.1 in /usr/local/lib/python3.10/dist-packages (from ipdb) (7.34.0)\n",
            "Requirement already satisfied: tomli in /usr/local/lib/python3.10/dist-packages (from ipdb) (2.0.1)\n",
            "Requirement already satisfied: decorator in /usr/local/lib/python3.10/dist-packages (from ipdb) (4.4.2)\n",
            "Requirement already satisfied: setuptools>=18.5 in /usr/local/lib/python3.10/dist-packages (from ipython>=7.31.1->ipdb) (71.0.4)\n",
            "Requirement already satisfied: jedi>=0.16 in /usr/local/lib/python3.10/dist-packages (from ipython>=7.31.1->ipdb) (0.19.1)\n",
            "Requirement already satisfied: pickleshare in /usr/local/lib/python3.10/dist-packages (from ipython>=7.31.1->ipdb) (0.7.5)\n",
            "Requirement already satisfied: traitlets>=4.2 in /usr/local/lib/python3.10/dist-packages (from ipython>=7.31.1->ipdb) (5.7.1)\n",
            "Requirement already satisfied: prompt-toolkit!=3.0.0,!=3.0.1,<3.1.0,>=2.0.0 in /usr/local/lib/python3.10/dist-packages (from ipython>=7.31.1->ipdb) (3.0.47)\n",
            "Requirement already satisfied: pygments in /usr/local/lib/python3.10/dist-packages (from ipython>=7.31.1->ipdb) (2.16.1)\n",
            "Requirement already satisfied: backcall in /usr/local/lib/python3.10/dist-packages (from ipython>=7.31.1->ipdb) (0.2.0)\n",
            "Requirement already satisfied: matplotlib-inline in /usr/local/lib/python3.10/dist-packages (from ipython>=7.31.1->ipdb) (0.1.7)\n",
            "Requirement already satisfied: pexpect>4.3 in /usr/local/lib/python3.10/dist-packages (from ipython>=7.31.1->ipdb) (4.9.0)\n",
            "Requirement already satisfied: parso<0.9.0,>=0.8.3 in /usr/local/lib/python3.10/dist-packages (from jedi>=0.16->ipython>=7.31.1->ipdb) (0.8.4)\n",
            "Requirement already satisfied: ptyprocess>=0.5 in /usr/local/lib/python3.10/dist-packages (from pexpect>4.3->ipython>=7.31.1->ipdb) (0.7.0)\n",
            "Requirement already satisfied: wcwidth in /usr/local/lib/python3.10/dist-packages (from prompt-toolkit!=3.0.0,!=3.0.1,<3.1.0,>=2.0.0->ipython>=7.31.1->ipdb) (0.2.13)\n"
          ]
        }
      ]
    },
    {
      "cell_type": "markdown",
      "source": [
        "**Now, let's replace the print() statements with ipdb.set_trace() in the my_function() to use ipdb for debugging:**"
      ],
      "metadata": {
        "id": "mNkqKMlR9bdl"
      }
    },
    {
      "cell_type": "code",
      "source": [
        "import ipdb\n",
        "\n",
        "def my_function(x, y):\n",
        "    ipdb.set_trace()\n",
        "    result = x + y\n",
        "    return result / 2"
      ],
      "metadata": {
        "id": "Hq0LkaPS8XK5"
      },
      "execution_count": 13,
      "outputs": []
    },
    {
      "cell_type": "markdown",
      "source": [
        "**Run the function with some input:**\n",
        "\n",
        "When you run the code, a debugging prompt will appear in the cell, allowing you to inspect variables, step through the code, and debug interactively:\n",
        "\n",
        "This simple example demonstrates how to use print() statements and ipdb for debugging Python code in Google Colab."
      ],
      "metadata": {
        "id": "ZBrJpJt89zBE"
      }
    },
    {
      "cell_type": "code",
      "source": [
        "1print(my_function(3, 5))"
      ],
      "metadata": {
        "colab": {
          "base_uri": "https://localhost:8080/"
        },
        "id": "KLg5eI8D8ZwB",
        "outputId": "b9199109-093f-4b88-eefc-d5f9c9d1a7e2"
      },
      "execution_count": 15,
      "outputs": [
        {
          "output_type": "stream",
          "name": "stdout",
          "text": [
            "> \u001b[0;32m<ipython-input-13-58e69ba06325>\u001b[0m(5)\u001b[0;36mmy_function\u001b[0;34m()\u001b[0m\n",
            "\u001b[0;32m      4 \u001b[0;31m    \u001b[0mipdb\u001b[0m\u001b[0;34m.\u001b[0m\u001b[0mset_trace\u001b[0m\u001b[0;34m(\u001b[0m\u001b[0;34m)\u001b[0m\u001b[0;34m\u001b[0m\u001b[0;34m\u001b[0m\u001b[0m\n",
            "\u001b[0m\u001b[0;32m----> 5 \u001b[0;31m    \u001b[0mresult\u001b[0m \u001b[0;34m=\u001b[0m \u001b[0mx\u001b[0m \u001b[0;34m+\u001b[0m \u001b[0my\u001b[0m\u001b[0;34m\u001b[0m\u001b[0;34m\u001b[0m\u001b[0m\n",
            "\u001b[0m\u001b[0;32m      6 \u001b[0;31m    \u001b[0;32mreturn\u001b[0m \u001b[0mresult\u001b[0m \u001b[0;34m/\u001b[0m \u001b[0;36m2\u001b[0m\u001b[0;34m\u001b[0m\u001b[0;34m\u001b[0m\u001b[0m\n",
            "\u001b[0m\n",
            "ipdb> 1\n",
            "1\n",
            "ipdb> 2\n",
            "2\n",
            "ipdb> 3\n",
            "3\n",
            "ipdb> 4\n",
            "4\n",
            "ipdb> 5\n",
            "5\n",
            "ipdb> 6\n",
            "6\n",
            "ipdb> 7\n",
            "7\n",
            "ipdb> 8\n",
            "8\n",
            "--KeyboardInterrupt--\n",
            "\n",
            "KeyboardInterrupt: Interrupted by user\n",
            "4.0\n"
          ]
        }
      ]
    },
    {
      "cell_type": "markdown",
      "source": [
        "# **Thank you!!**"
      ],
      "metadata": {
        "id": "0W2CCCwD-TWU"
      }
    }
  ]
}